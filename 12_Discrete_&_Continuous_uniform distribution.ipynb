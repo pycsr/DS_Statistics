{
 "cells": [
  {
   "cell_type": "markdown",
   "id": "415d36f9",
   "metadata": {},
   "source": [
    "# What is a uniform distribution\n",
    "\n",
    "- There are two types of uniform distributions:\n",
    "    - Discrete uniform distribution – working with discrete (finite) values\n",
    "    - Continuous uniform distribution – working with continuous values. A continuous uniform distribution is also called a rectangular distribution\n"
   ]
  },
  {
   "cell_type": "code",
   "execution_count": 1,
   "id": "4ebab48e",
   "metadata": {
    "ExecuteTime": {
     "end_time": "2022-03-25T15:44:11.485688Z",
     "start_time": "2022-03-25T15:44:09.145427Z"
    }
   },
   "outputs": [],
   "source": [
    "import numpy as np\n",
    "import matplotlib.pyplot as plt\n",
    "from scipy.stats import uniform,randint"
   ]
  },
  {
   "cell_type": "markdown",
   "id": "cc82f941",
   "metadata": {},
   "source": [
    "# Discrete uniform Distribution"
   ]
  },
  {
   "cell_type": "code",
   "execution_count": 2,
   "id": "898dc2c1",
   "metadata": {
    "ExecuteTime": {
     "end_time": "2022-03-25T15:44:11.492971Z",
     "start_time": "2022-03-25T15:44:11.487435Z"
    }
   },
   "outputs": [
    {
     "data": {
      "text/plain": [
       "array([1, 2, 3, 4, 5, 6])"
      ]
     },
     "execution_count": 2,
     "metadata": {},
     "output_type": "execute_result"
    }
   ],
   "source": [
    "a = 1\n",
    "b = 6\n",
    "x = np.arange(a,b+1)\n",
    "x"
   ]
  },
  {
   "cell_type": "code",
   "execution_count": 3,
   "id": "472e7a1c",
   "metadata": {
    "ExecuteTime": {
     "end_time": "2022-03-25T15:44:11.501139Z",
     "start_time": "2022-03-25T15:44:11.495614Z"
    }
   },
   "outputs": [
    {
     "data": {
      "text/plain": [
       "<scipy.stats._distn_infrastructure.rv_frozen at 0x7f8c863260a0>"
      ]
     },
     "execution_count": 3,
     "metadata": {},
     "output_type": "execute_result"
    }
   ],
   "source": [
    "duv = randint(a,b+1)\n",
    "duv"
   ]
  },
  {
   "cell_type": "code",
   "execution_count": 4,
   "id": "d6c2a12b",
   "metadata": {
    "ExecuteTime": {
     "end_time": "2022-03-25T15:44:11.508941Z",
     "start_time": "2022-03-25T15:44:11.502903Z"
    }
   },
   "outputs": [
    {
     "data": {
      "text/plain": [
       "array([0.16666667, 0.16666667, 0.16666667, 0.16666667, 0.16666667,\n",
       "       0.16666667])"
      ]
     },
     "execution_count": 4,
     "metadata": {},
     "output_type": "execute_result"
    }
   ],
   "source": [
    "pdf = duv.pmf(x)\n",
    "pdf"
   ]
  },
  {
   "cell_type": "code",
   "execution_count": 5,
   "id": "6e85628f",
   "metadata": {
    "ExecuteTime": {
     "end_time": "2022-03-25T15:44:11.695537Z",
     "start_time": "2022-03-25T15:44:11.510902Z"
    }
   },
   "outputs": [
    {
     "data": {
      "text/plain": [
       "Text(0.5, 1.0, 'PMF for Discrete Uniform Distribution')"
      ]
     },
     "execution_count": 5,
     "metadata": {},
     "output_type": "execute_result"
    },
    {
     "data": {
      "image/png": "[encoded data removed]",
      "text/plain": [
       "<Figure size 432x288 with 1 Axes>"
      ]
     },
     "metadata": {
      "needs_background": "light"
     },
     "output_type": "display_data"
    }
   ],
   "source": [
    "plt.plot(x,pdf,\"ob\",ms=8)\n",
    "plt.vlines(x,0,pdf,color=\"b\",alpha=.2)\n",
    "plt.title(\"PMF for Discrete Uniform Distribution\")"
   ]
  },
  {
   "cell_type": "code",
   "execution_count": 6,
   "id": "33175faf",
   "metadata": {
    "ExecuteTime": {
     "end_time": "2022-03-25T15:44:11.703237Z",
     "start_time": "2022-03-25T15:44:11.697332Z"
    }
   },
   "outputs": [
    {
     "data": {
      "text/plain": [
       "array([0.16666667, 0.33333333, 0.5       , 0.66666667, 0.83333333,\n",
       "       1.        ])"
      ]
     },
     "execution_count": 6,
     "metadata": {},
     "output_type": "execute_result"
    }
   ],
   "source": [
    "cdf = np.cumsum(pdf)\n",
    "cdf"
   ]
  },
  {
   "cell_type": "code",
   "execution_count": 7,
   "id": "fe1ee233",
   "metadata": {
    "ExecuteTime": {
     "end_time": "2022-03-25T15:44:11.862114Z",
     "start_time": "2022-03-25T15:44:11.704990Z"
    }
   },
   "outputs": [
    {
     "data": {
      "text/plain": [
       "Text(0.5, 1.0, 'CDF for Discrete Uniform Distribution')"
      ]
     },
     "execution_count": 7,
     "metadata": {},
     "output_type": "execute_result"
    },
    {
     "data": {
      "image/png": "[encoded data removed]",
      "text/plain": [
       "<Figure size 432x288 with 1 Axes>"
      ]
     },
     "metadata": {
      "needs_background": "light"
     },
     "output_type": "display_data"
    }
   ],
   "source": [
    "plt.plot(x,cdf,\"ob\",ms=8)\n",
    "plt.vlines(x,0,cdf,color=\"b\",alpha=.2)\n",
    "plt.title(\"CDF for Discrete Uniform Distribution\")"
   ]
  }
 ],
 "metadata": {
  "kernelspec": {
   "display_name": "Python 3 (ipykernel)",
   "language": "python",
   "name": "python3"
  },
  "language_info": {
   "codemirror_mode": {
    "name": "ipython",
    "version": 3
   },
   "file_extension": ".py",
   "mimetype": "text/x-python",
   "name": "python",
   "nbconvert_exporter": "python",
   "pygments_lexer": "ipython3",
   "version": "3.9.7"
  },
  "toc": {
   "base_numbering": 1,
   "nav_menu": {},
   "number_sections": true,
   "sideBar": true,
   "skip_h1_title": false,
   "title_cell": "Table of Contents",
   "title_sidebar": "Contents",
   "toc_cell": false,
   "toc_position": {},
   "toc_section_display": true,
   "toc_window_display": true
  },
  "varInspector": {
   "cols": {
    "lenName": 16,
    "lenType": 16,
    "lenVar": 40
   },
   "kernels_config": {
    "python": {
     "delete_cmd_postfix": "",
     "delete_cmd_prefix": "del ",
     "library": "var_list.py",
     "varRefreshCmd": "print(var_dic_list())"
    },
    "r": {
     "delete_cmd_postfix": ") ",
     "delete_cmd_prefix": "rm(",
     "library": "var_list.r",
     "varRefreshCmd": "cat(var_dic_list()) "
    }
   },
   "types_to_exclude": [
    "module",
    "function",
    "builtin_function_or_method",
    "instance",
    "_Feature"
   ],
   "window_display": false
  }
 },
 "nbformat": 4,
 "nbformat_minor": 5
}
