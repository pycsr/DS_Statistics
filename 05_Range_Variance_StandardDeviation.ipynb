{
 "cells": [
  {
   "cell_type": "markdown",
   "id": "d75cca39",
   "metadata": {},
   "source": [
    "# Measure of Variability"
   ]
  },
  {
   "cell_type": "code",
   "execution_count": 29,
   "id": "03e8657a",
   "metadata": {
    "ExecuteTime": {
     "end_time": "2022-03-17T12:02:46.185352Z",
     "start_time": "2022-03-17T12:02:46.182570Z"
    }
   },
   "outputs": [],
   "source": [
    "import numpy as np\n",
    "import matplotlib.pyplot as plt\n",
    "import seaborn as sns"
   ]
  },
  {
   "cell_type": "code",
   "execution_count": 35,
   "id": "897a76c4",
   "metadata": {
    "ExecuteTime": {
     "end_time": "2022-03-17T12:17:00.154780Z",
     "start_time": "2022-03-17T12:17:00.139616Z"
    }
   },
   "outputs": [
    {
     "data": {
      "text/html": [
       "<div>\n",
       "<style scoped>\n",
       "    .dataframe tbody tr th:only-of-type {\n",
       "        vertical-align: middle;\n",
       "    }\n",
       "\n",
       "    .dataframe tbody tr th {\n",
       "        vertical-align: top;\n",
       "    }\n",
       "\n",
       "    .dataframe thead th {\n",
       "        text-align: right;\n",
       "    }\n",
       "</style>\n",
       "<table border=\"1\" class=\"dataframe\">\n",
       "  <thead>\n",
       "    <tr style=\"text-align: right;\">\n",
       "      <th></th>\n",
       "      <th>sepal_length</th>\n",
       "      <th>sepal_width</th>\n",
       "      <th>petal_length</th>\n",
       "      <th>petal_width</th>\n",
       "      <th>species</th>\n",
       "    </tr>\n",
       "  </thead>\n",
       "  <tbody>\n",
       "    <tr>\n",
       "      <th>0</th>\n",
       "      <td>5.1</td>\n",
       "      <td>3.5</td>\n",
       "      <td>1.4</td>\n",
       "      <td>0.2</td>\n",
       "      <td>setosa</td>\n",
       "    </tr>\n",
       "    <tr>\n",
       "      <th>1</th>\n",
       "      <td>4.9</td>\n",
       "      <td>3.0</td>\n",
       "      <td>1.4</td>\n",
       "      <td>0.2</td>\n",
       "      <td>setosa</td>\n",
       "    </tr>\n",
       "    <tr>\n",
       "      <th>2</th>\n",
       "      <td>4.7</td>\n",
       "      <td>3.2</td>\n",
       "      <td>1.3</td>\n",
       "      <td>0.2</td>\n",
       "      <td>setosa</td>\n",
       "    </tr>\n",
       "  </tbody>\n",
       "</table>\n",
       "</div>"
      ],
      "text/plain": [
       "   sepal_length  sepal_width  petal_length  petal_width species\n",
       "0           5.1          3.5           1.4          0.2  setosa\n",
       "1           4.9          3.0           1.4          0.2  setosa\n",
       "2           4.7          3.2           1.3          0.2  setosa"
      ]
     },
     "execution_count": 35,
     "metadata": {},
     "output_type": "execute_result"
    }
   ],
   "source": [
    "df = sns.load_dataset(\"iris\")\n",
    "df.head(3)"
   ]
  },
  {
   "cell_type": "code",
   "execution_count": 36,
   "id": "3c5e54f7",
   "metadata": {
    "ExecuteTime": {
     "end_time": "2022-03-17T12:17:19.170937Z",
     "start_time": "2022-03-17T12:17:19.163602Z"
    }
   },
   "outputs": [
    {
     "data": {
      "text/plain": [
       "0      1.4\n",
       "1      1.4\n",
       "2      1.3\n",
       "3      1.5\n",
       "4      1.4\n",
       "      ... \n",
       "145    5.2\n",
       "146    5.0\n",
       "147    5.2\n",
       "148    5.4\n",
       "149    5.1\n",
       "Name: petal_length, Length: 150, dtype: float64"
      ]
     },
     "execution_count": 36,
     "metadata": {},
     "output_type": "execute_result"
    }
   ],
   "source": [
    "df.petal_length"
   ]
  },
  {
   "cell_type": "markdown",
   "id": "f31bdf6a",
   "metadata": {},
   "source": [
    "## Range\n",
    "- It's the `difference between the largest value and the smallest value`, is the simplest measure of variability in the data. \n",
    "- The range is determined by only the two extreme data values."
   ]
  },
  {
   "cell_type": "code",
   "execution_count": 39,
   "id": "1e0bf5fa",
   "metadata": {
    "ExecuteTime": {
     "end_time": "2022-03-17T12:18:28.990551Z",
     "start_time": "2022-03-17T12:18:28.985380Z"
    }
   },
   "outputs": [
    {
     "data": {
      "text/plain": [
       "1.0"
      ]
     },
     "execution_count": 39,
     "metadata": {},
     "output_type": "execute_result"
    }
   ],
   "source": [
    "df.petal_length.min()"
   ]
  },
  {
   "cell_type": "code",
   "execution_count": 40,
   "id": "a106cd52",
   "metadata": {
    "ExecuteTime": {
     "end_time": "2022-03-17T12:18:33.297037Z",
     "start_time": "2022-03-17T12:18:33.291753Z"
    }
   },
   "outputs": [
    {
     "data": {
      "text/plain": [
       "6.9"
      ]
     },
     "execution_count": 40,
     "metadata": {},
     "output_type": "execute_result"
    }
   ],
   "source": [
    "df.petal_length.max()"
   ]
  },
  {
   "cell_type": "code",
   "execution_count": 38,
   "id": "00d12d38",
   "metadata": {
    "ExecuteTime": {
     "end_time": "2022-03-17T12:18:17.892802Z",
     "start_time": "2022-03-17T12:18:17.886892Z"
    }
   },
   "outputs": [
    {
     "data": {
      "text/plain": [
       "5.9"
      ]
     },
     "execution_count": 38,
     "metadata": {},
     "output_type": "execute_result"
    }
   ],
   "source": [
    "abs(df.petal_length.min()-df.petal_length.max())"
   ]
  },
  {
   "cell_type": "markdown",
   "id": "8f333e04",
   "metadata": {},
   "source": [
    "## Variance \n",
    "- Variance is a numerical value that describes the variability of observations from its arithmetic mean.\n",
    "- `How far individuals in a group are spread out.`\n",
    "\n",
    "$$\\sigma^2 = \\frac{\\sum_{i=1}^{n}(x_i - \\mu)^2}{n}$$\n"
   ]
  },
  {
   "cell_type": "code",
   "execution_count": 41,
   "id": "5afd424e",
   "metadata": {
    "ExecuteTime": {
     "end_time": "2022-03-17T12:27:46.380074Z",
     "start_time": "2022-03-17T12:27:46.370369Z"
    }
   },
   "outputs": [
    {
     "data": {
      "text/plain": [
       "3.1162778523489942"
      ]
     },
     "execution_count": 41,
     "metadata": {},
     "output_type": "execute_result"
    }
   ],
   "source": [
    "df.petal_length.var()"
   ]
  },
  {
   "cell_type": "markdown",
   "id": "7e545a03",
   "metadata": {},
   "source": [
    "## Standard Deviation \n",
    "- Standard deviation is a measure of dispersion of observations within a data set.\n",
    "- `How much observations of a data set differs from its mean.`\n",
    "\n",
    "$$\\sigma = \\sqrt{variance}$$"
   ]
  },
  {
   "cell_type": "code",
   "execution_count": 42,
   "id": "dc403933",
   "metadata": {
    "ExecuteTime": {
     "end_time": "2022-03-17T12:27:57.720199Z",
     "start_time": "2022-03-17T12:27:57.714949Z"
    }
   },
   "outputs": [
    {
     "data": {
      "text/plain": [
       "1.7652982332594667"
      ]
     },
     "execution_count": 42,
     "metadata": {},
     "output_type": "execute_result"
    }
   ],
   "source": [
    "df.petal_length.std()"
   ]
  },
  {
   "cell_type": "code",
   "execution_count": 43,
   "id": "164948c2",
   "metadata": {
    "ExecuteTime": {
     "end_time": "2022-03-17T12:28:12.921018Z",
     "start_time": "2022-03-17T12:28:12.916508Z"
    }
   },
   "outputs": [
    {
     "data": {
      "text/plain": [
       "1.7652982332594667"
      ]
     },
     "execution_count": 43,
     "metadata": {},
     "output_type": "execute_result"
    }
   ],
   "source": [
    "np.sqrt(df.petal_length.var())"
   ]
  }
 ],
 "metadata": {
  "kernelspec": {
   "display_name": "Python 3 (ipykernel)",
   "language": "python",
   "name": "python3"
  },
  "language_info": {
   "codemirror_mode": {
    "name": "ipython",
    "version": 3
   },
   "file_extension": ".py",
   "mimetype": "text/x-python",
   "name": "python",
   "nbconvert_exporter": "python",
   "pygments_lexer": "ipython3",
   "version": "3.9.7"
  },
  "toc": {
   "base_numbering": 1,
   "nav_menu": {},
   "number_sections": true,
   "sideBar": true,
   "skip_h1_title": false,
   "title_cell": "Table of Contents",
   "title_sidebar": "Contents",
   "toc_cell": false,
   "toc_position": {},
   "toc_section_display": true,
   "toc_window_display": true
  },
  "varInspector": {
   "cols": {
    "lenName": 16,
    "lenType": 16,
    "lenVar": 40
   },
   "kernels_config": {
    "python": {
     "delete_cmd_postfix": "",
     "delete_cmd_prefix": "del ",
     "library": "var_list.py",
     "varRefreshCmd": "print(var_dic_list())"
    },
    "r": {
     "delete_cmd_postfix": ") ",
     "delete_cmd_prefix": "rm(",
     "library": "var_list.r",
     "varRefreshCmd": "cat(var_dic_list()) "
    }
   },
   "types_to_exclude": [
    "module",
    "function",
    "builtin_function_or_method",
    "instance",
    "_Feature"
   ],
   "window_display": false
  }
 },
 "nbformat": 4,
 "nbformat_minor": 5
}
