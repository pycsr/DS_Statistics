{
 "cells": [
  {
   "cell_type": "markdown",
   "id": "b0f44a49",
   "metadata": {},
   "source": [
    "# Hypothesis Testing\n",
    "- Reference: https://saylordotorg.github.io/text_introductory-statistics/s12-testing-hypotheses.html"
   ]
  },
  {
   "cell_type": "markdown",
   "id": "5b5855ce",
   "metadata": {},
   "source": [
    "## What is it?\n",
    "- A statistical hypothesis test is a method of statistical inference used to decide whether the data at hand sufficiently support a particular hypothesis. "
   ]
  },
  {
   "cell_type": "markdown",
   "id": "3ff419ba",
   "metadata": {},
   "source": [
    "## Why we use it?\n",
    "- The purpose of hypothesis testing is to determine whether there is enough statistical evidence in favor of a certain belief, or hypothesis, about a parameter."
   ]
  },
  {
   "cell_type": "markdown",
   "id": "ebcc196e",
   "metadata": {},
   "source": [
    "## Where to use it?\n",
    "- Hypothesis testing is generally used when you are `comparing two or more groups.`\n",
    "- When you are evaluating a hypothesis, you need to account for both the variability in your sample and how large \n",
    "   your sample is.\n",
    "- The alternative hypothesis (H1) or ($H_a$) is the statement that there is an effect or difference."
   ]
  },
  {
   "cell_type": "markdown",
   "id": "d01c4578",
   "metadata": {},
   "source": [
    "## What are the steps involved to conduct Hypothesis Testing?\n",
    "\n",
    "- Five Steps in Hypothesis Testing:\n",
    "    - Specify the Null Hypothesis ($H_0$)\n",
    "    - Specify the Alternative Hypothesis ($H_1$) or ($H_a$)\n",
    "    - Set the Significance Level ($\\alpha$)\n",
    "    - Calculate the Test Statistic and Corresponding P-Value ($p$)\n",
    "    - Drawing a Conclusion\n",
    "\n"
   ]
  },
  {
   "cell_type": "markdown",
   "id": "cbe7fcec",
   "metadata": {},
   "source": [
    "# Vocabulary"
   ]
  },
  {
   "cell_type": "markdown",
   "id": "44f410a6",
   "metadata": {
    "ExecuteTime": {
     "end_time": "2022-04-01T12:06:03.007255Z",
     "start_time": "2022-04-01T12:06:03.003865Z"
    }
   },
   "source": [
    "## What is Null ($H_0$) Hypothesis\n",
    "- The null hypothesis (H0) is a statement of no effect, relationship, or difference between two or more groups or factors.  In research studies, a researcher is usually interested in disproving the null hypothesis.\n"
   ]
  },
  {
   "cell_type": "markdown",
   "id": "84145163",
   "metadata": {
    "ExecuteTime": {
     "end_time": "2022-04-01T12:06:03.007255Z",
     "start_time": "2022-04-01T12:06:03.003865Z"
    }
   },
   "source": [
    "## What is Alternate ($H_1 or H_\\alpha$) Hypothesis\n",
    "- The alternative hypothesis (H1) is the statement that there is an effect or difference.  This is usually the hypothesis the researcher is interested in proving. "
   ]
  },
  {
   "cell_type": "markdown",
   "id": "51cb6b21",
   "metadata": {},
   "source": [
    "## What are critical values ($C \\& C'$)\n",
    "- The critical value or critical values of a test of hypotheses are the number or numbers that determine the rejection region."
   ]
  },
  {
   "cell_type": "markdown",
   "id": "70af0469",
   "metadata": {
    "ExecuteTime": {
     "end_time": "2022-04-01T12:14:37.546218Z",
     "start_time": "2022-04-01T12:14:37.543122Z"
    }
   },
   "source": [
    "## What is $\\alpha$ or Significance value\n",
    "- Alpha is a threshold value used to judge `whether a test statistic is statistically significant.` It is chosen by the researcher. Alpha represents an acceptable probability of a Type I error in a statistical test. Because alpha corresponds to a probability, it can range from 0 to 1."
   ]
  },
  {
   "cell_type": "markdown",
   "id": "f628e1c8",
   "metadata": {
    "ExecuteTime": {
     "end_time": "2022-04-01T12:14:37.546218Z",
     "start_time": "2022-04-01T12:14:37.543122Z"
    }
   },
   "source": [
    "## What is $p$ or probability value\n",
    "- The p-value is a number, calculated from a statistical test, that `describes how likely you are to have found a particular set of observations if the null hypothesis were true.` P-values are used in hypothesis testing to help `decide whether to reject the null hypothesis.`"
   ]
  },
  {
   "cell_type": "markdown",
   "id": "4f297ecb",
   "metadata": {},
   "source": [
    "## What is test-statistics\n",
    "- A test statistic is a statistic used in statistical hypothesis testing. A hypothesis test is typically specified in terms of a test statistic, considered as a numerical summary of a data-set that reduces the data to one value that can be used to perform the hypothesis test."
   ]
  },
  {
   "cell_type": "markdown",
   "id": "35b1f920",
   "metadata": {},
   "source": [
    "## What is two-tailed test\n",
    "- In statistics, a two-tailed test is a method in which the critical area of a distribution is two-sided and tests whether a sample is greater or less than a range of values. It is used in null-hypothesis testing and testing for statistical significance."
   ]
  },
  {
   "cell_type": "markdown",
   "id": "f527b801",
   "metadata": {},
   "source": [
    "## What is single-tailed test\n",
    "- A one-tailed test is a statistical test in which the critical area of a distribution is one-sided so that it is either greater than or less than a certain value, but not both. If the sample being tested falls into the one-sided critical area, the alternative hypothesis will be accepted instead of the null hypothesis."
   ]
  },
  {
   "cell_type": "markdown",
   "id": "bf5cd151",
   "metadata": {},
   "source": [
    "## What are types of Error in Hypothesis Testing\n",
    "- there are two types of errors: Type I error and type II error. \n",
    "    - A type I error occurs if a `true null hypothesis is rejected` (a “false positive”), while a \n",
    "    - Type II error occurs if a `false null hypothesis is not rejected` (a “false negative”)."
   ]
  },
  {
   "cell_type": "markdown",
   "id": "b17da362",
   "metadata": {},
   "source": [
    "# Rejecting Null Hypothesis using \n",
    "- Z -test to get critical values for decision making\n",
    "- p-value to get cummulative probability for decision making\n",
    "- using t-student's test if sample size is less than 30"
   ]
  },
  {
   "cell_type": "markdown",
   "id": "6f238d7d",
   "metadata": {},
   "source": [
    "# Examples\n",
    "Reference: https://saylordotorg.github.io/text_introductory-statistics/s12-testing-hypotheses.html"
   ]
  }
 ],
 "metadata": {
  "kernelspec": {
   "display_name": "Python 3 (ipykernel)",
   "language": "python",
   "name": "python3"
  },
  "language_info": {
   "codemirror_mode": {
    "name": "ipython",
    "version": 3
   },
   "file_extension": ".py",
   "mimetype": "text/x-python",
   "name": "python",
   "nbconvert_exporter": "python",
   "pygments_lexer": "ipython3",
   "version": "3.9.7"
  },
  "toc": {
   "base_numbering": 1,
   "nav_menu": {},
   "number_sections": true,
   "sideBar": true,
   "skip_h1_title": false,
   "title_cell": "Table of Contents",
   "title_sidebar": "Contents",
   "toc_cell": false,
   "toc_position": {},
   "toc_section_display": true,
   "toc_window_display": true
  },
  "varInspector": {
   "cols": {
    "lenName": 16,
    "lenType": 16,
    "lenVar": 40
   },
   "kernels_config": {
    "python": {
     "delete_cmd_postfix": "",
     "delete_cmd_prefix": "del ",
     "library": "var_list.py",
     "varRefreshCmd": "print(var_dic_list())"
    },
    "r": {
     "delete_cmd_postfix": ") ",
     "delete_cmd_prefix": "rm(",
     "library": "var_list.r",
     "varRefreshCmd": "cat(var_dic_list()) "
    }
   },
   "types_to_exclude": [
    "module",
    "function",
    "builtin_function_or_method",
    "instance",
    "_Feature"
   ],
   "window_display": false
  }
 },
 "nbformat": 4,
 "nbformat_minor": 5
}
