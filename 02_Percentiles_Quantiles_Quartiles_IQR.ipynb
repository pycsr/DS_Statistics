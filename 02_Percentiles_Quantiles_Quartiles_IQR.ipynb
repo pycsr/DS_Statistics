{
 "cells": [
  {
   "cell_type": "code",
   "execution_count": 197,
   "id": "0ddcaa37",
   "metadata": {
    "ExecuteTime": {
     "end_time": "2022-03-10T13:16:56.461777Z",
     "start_time": "2022-03-10T13:16:56.452199Z"
    }
   },
   "outputs": [],
   "source": [
    "import numpy as np\n",
    "import pandas as pd\n",
    "import seaborn as sns\n",
    "import matplotlib.pyplot as plt"
   ]
  },
  {
   "cell_type": "markdown",
   "id": "8a2a8bf8",
   "metadata": {},
   "source": [
    "# Percentiles\n",
    "- The most common definition of a percentile is a `number`/`rank` where a certain percentage of scores fall below that number\n",
    "- Where to use:\n",
    "  - To understand grade ranking \n",
    "  - Test scores, health indicators, and other measurements"
   ]
  },
  {
   "cell_type": "code",
   "execution_count": 200,
   "id": "67866c80",
   "metadata": {
    "ExecuteTime": {
     "end_time": "2022-03-10T13:18:12.176832Z",
     "start_time": "2022-03-10T13:18:12.170989Z"
    }
   },
   "outputs": [
    {
     "data": {
      "text/plain": [
       "array([ 1,  2,  3,  4,  5,  6,  7,  8,  9, 10, 11])"
      ]
     },
     "execution_count": 200,
     "metadata": {},
     "output_type": "execute_result"
    }
   ],
   "source": [
    "a = np.arange(1,12)\n",
    "a"
   ]
  },
  {
   "cell_type": "code",
   "execution_count": 201,
   "id": "cc242c92",
   "metadata": {
    "ExecuteTime": {
     "end_time": "2022-03-10T13:18:19.176901Z",
     "start_time": "2022-03-10T13:18:19.167225Z"
    }
   },
   "outputs": [
    {
     "data": {
      "text/plain": [
       "6.0"
      ]
     },
     "execution_count": 201,
     "metadata": {},
     "output_type": "execute_result"
    }
   ],
   "source": [
    "np.percentile(a,50)"
   ]
  },
  {
   "cell_type": "code",
   "execution_count": 202,
   "id": "ef8b69e0",
   "metadata": {
    "ExecuteTime": {
     "end_time": "2022-03-10T13:18:48.704480Z",
     "start_time": "2022-03-10T13:18:48.697462Z"
    }
   },
   "outputs": [
    {
     "data": {
      "text/plain": [
       "array([ 3.5,  6. ,  8.5, 11. ])"
      ]
     },
     "execution_count": 202,
     "metadata": {},
     "output_type": "execute_result"
    }
   ],
   "source": [
    "np.percentile(a,[25,50,75,100])"
   ]
  },
  {
   "cell_type": "markdown",
   "id": "a36ee5dc",
   "metadata": {},
   "source": [
    "## Understand Percentiles using Box Plot"
   ]
  },
  {
   "cell_type": "code",
   "execution_count": 207,
   "id": "fcafa05c",
   "metadata": {
    "ExecuteTime": {
     "end_time": "2022-03-10T13:24:03.523819Z",
     "start_time": "2022-03-10T13:24:03.513416Z"
    }
   },
   "outputs": [
    {
     "data": {
      "text/plain": [
       "array([1, 2, 3])"
      ]
     },
     "execution_count": 207,
     "metadata": {},
     "output_type": "execute_result"
    }
   ],
   "source": [
    "a[a<np.percentile(a,25)]"
   ]
  },
  {
   "cell_type": "code",
   "execution_count": 212,
   "id": "cebc2d83",
   "metadata": {
    "ExecuteTime": {
     "end_time": "2022-03-10T13:25:09.613889Z",
     "start_time": "2022-03-10T13:25:09.607148Z"
    }
   },
   "outputs": [
    {
     "data": {
      "text/plain": [
       "array([1, 2, 3, 4, 5])"
      ]
     },
     "execution_count": 212,
     "metadata": {},
     "output_type": "execute_result"
    }
   ],
   "source": [
    "a[a<np.percentile(a,50)]"
   ]
  },
  {
   "cell_type": "code",
   "execution_count": 219,
   "id": "0e599f04",
   "metadata": {
    "ExecuteTime": {
     "end_time": "2022-03-10T13:27:46.194906Z",
     "start_time": "2022-03-10T13:27:45.841232Z"
    }
   },
   "outputs": [
    {
     "data": {
      "image/png": "[encoded data removed]",
      "text/plain": [
       "<Figure size 432x288 with 3 Axes>"
      ]
     },
     "metadata": {
      "needs_background": "light"
     },
     "output_type": "display_data"
    }
   ],
   "source": [
    "plt.subplot(1,3,1)\n",
    "sns.boxplot(y=a,width=.4)\n",
    "sns.swarmplot(y=a[a<=np.percentile(a,25)],color=\"r\",size=10)\n",
    "plt.subplot(1,3,2)\n",
    "sns.boxplot(y=a,width=.4)\n",
    "sns.swarmplot(y=a[a<=np.percentile(a,50)],color=\"b\",size=10)\n",
    "plt.subplot(1,3,3)\n",
    "sns.boxplot(y=a,width=.4)\n",
    "sns.swarmplot(y=a[a<=np.percentile(a,75)],color=\"m\",size=10)\n",
    "\n",
    "plt.show()"
   ]
  },
  {
   "cell_type": "markdown",
   "id": "0ad5c285",
   "metadata": {},
   "source": [
    "## IQR(`I`nter `Q`uartile `R`ange) using Box plot"
   ]
  },
  {
   "cell_type": "code",
   "execution_count": 221,
   "id": "c965ddaf",
   "metadata": {
    "ExecuteTime": {
     "end_time": "2022-03-10T13:29:40.176694Z",
     "start_time": "2022-03-10T13:29:39.873432Z"
    }
   },
   "outputs": [
    {
     "data": {
      "text/plain": [
       "<AxesSubplot:>"
      ]
     },
     "execution_count": 221,
     "metadata": {},
     "output_type": "execute_result"
    },
    {
     "data": {
      "image/png": "[encoded data removed]",
      "text/plain": [
       "<Figure size 432x288 with 1 Axes>"
      ]
     },
     "metadata": {
      "needs_background": "light"
     },
     "output_type": "display_data"
    }
   ],
   "source": [
    "sns.boxplot(y=a)"
   ]
  },
  {
   "cell_type": "markdown",
   "id": "e4544d83",
   "metadata": {},
   "source": [
    "# Quantiles\n",
    "- Similar to percentile\n",
    "- Where to use:\n",
    "  -  If you want to rank data into categories such as high, medium, and low then go with quantile classification"
   ]
  },
  {
   "cell_type": "code",
   "execution_count": 222,
   "id": "f914dbc9",
   "metadata": {
    "ExecuteTime": {
     "end_time": "2022-03-10T13:30:38.502120Z",
     "start_time": "2022-03-10T13:30:38.492201Z"
    }
   },
   "outputs": [
    {
     "data": {
      "text/plain": [
       "6.0"
      ]
     },
     "execution_count": 222,
     "metadata": {},
     "output_type": "execute_result"
    }
   ],
   "source": [
    "np.quantile(a,.5)"
   ]
  },
  {
   "cell_type": "code",
   "execution_count": 223,
   "id": "9e7f2ece",
   "metadata": {
    "ExecuteTime": {
     "end_time": "2022-03-10T13:31:09.388420Z",
     "start_time": "2022-03-10T13:31:09.378489Z"
    }
   },
   "outputs": [
    {
     "data": {
      "text/plain": [
       "array([ 2.,  4.,  9., 11.])"
      ]
     },
     "execution_count": 223,
     "metadata": {},
     "output_type": "execute_result"
    }
   ],
   "source": [
    "np.quantile(a,[.1,.3,.8,1])"
   ]
  },
  {
   "cell_type": "markdown",
   "id": "ea80a359",
   "metadata": {},
   "source": [
    "# Quartiles\n",
    "- Quartile relates to quarters\n",
    "    Ex:\n",
    "    - 0 quartile = 0 quantile = 0 percentile\n",
    "    - 1 quartile = 0.25 quantile = 25 percentile\n",
    "    - 2 quartile = .5 quantile = 50 percentile (median)\n",
    "    - 3 quartile = .75 quantile = 75 percentile\n",
    "    - 4 quartile = 1 quantile = 100 percentile\n"
   ]
  },
  {
   "cell_type": "code",
   "execution_count": null,
   "id": "e42bd488",
   "metadata": {},
   "outputs": [],
   "source": []
  }
 ],
 "metadata": {
  "kernelspec": {
   "display_name": "Python 3 (ipykernel)",
   "language": "python",
   "name": "python3"
  },
  "language_info": {
   "codemirror_mode": {
    "name": "ipython",
    "version": 3
   },
   "file_extension": ".py",
   "mimetype": "text/x-python",
   "name": "python",
   "nbconvert_exporter": "python",
   "pygments_lexer": "ipython3",
   "version": "3.9.7"
  },
  "toc": {
   "base_numbering": 1,
   "nav_menu": {},
   "number_sections": true,
   "sideBar": true,
   "skip_h1_title": false,
   "title_cell": "Table of Contents",
   "title_sidebar": "Contents",
   "toc_cell": false,
   "toc_position": {},
   "toc_section_display": true,
   "toc_window_display": true
  },
  "varInspector": {
   "cols": {
    "lenName": 16,
    "lenType": 16,
    "lenVar": 40
   },
   "kernels_config": {
    "python": {
     "delete_cmd_postfix": "",
     "delete_cmd_prefix": "del ",
     "library": "var_list.py",
     "varRefreshCmd": "print(var_dic_list())"
    },
    "r": {
     "delete_cmd_postfix": ") ",
     "delete_cmd_prefix": "rm(",
     "library": "var_list.r",
     "varRefreshCmd": "cat(var_dic_list()) "
    }
   },
   "types_to_exclude": [
    "module",
    "function",
    "builtin_function_or_method",
    "instance",
    "_Feature"
   ],
   "window_display": false
  }
 },
 "nbformat": 4,
 "nbformat_minor": 5
}
