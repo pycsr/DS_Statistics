{
 "cells": [
  {
   "cell_type": "markdown",
   "id": "7583e35e",
   "metadata": {},
   "source": [
    "# Standard Normal Variate"
   ]
  },
  {
   "cell_type": "code",
   "execution_count": 5,
   "id": "7a694bf1",
   "metadata": {
    "ExecuteTime": {
     "end_time": "2022-03-18T16:03:22.687604Z",
     "start_time": "2022-03-18T16:03:22.684582Z"
    }
   },
   "outputs": [],
   "source": [
    "import numpy as np\n",
    "import seaborn as sns\n",
    "import matplotlib.pyplot as plt"
   ]
  },
  {
   "cell_type": "code",
   "execution_count": 14,
   "id": "81db62db",
   "metadata": {
    "ExecuteTime": {
     "end_time": "2022-03-18T16:49:54.726777Z",
     "start_time": "2022-03-18T16:49:54.723958Z"
    }
   },
   "outputs": [],
   "source": [
    "a = np.random.randint(120,180,200)"
   ]
  },
  {
   "cell_type": "code",
   "execution_count": 16,
   "id": "f603e4d6",
   "metadata": {
    "ExecuteTime": {
     "end_time": "2022-03-18T16:50:15.603641Z",
     "start_time": "2022-03-18T16:50:15.598944Z"
    }
   },
   "outputs": [
    {
     "data": {
      "text/plain": [
       "150.505"
      ]
     },
     "execution_count": 16,
     "metadata": {},
     "output_type": "execute_result"
    }
   ],
   "source": [
    "a.mean()"
   ]
  },
  {
   "cell_type": "code",
   "execution_count": 17,
   "id": "3d847a7d",
   "metadata": {
    "ExecuteTime": {
     "end_time": "2022-03-18T16:50:20.923347Z",
     "start_time": "2022-03-18T16:50:20.918339Z"
    }
   },
   "outputs": [
    {
     "data": {
      "text/plain": [
       "17.656442875052722"
      ]
     },
     "execution_count": 17,
     "metadata": {},
     "output_type": "execute_result"
    }
   ],
   "source": [
    "a.std()"
   ]
  },
  {
   "cell_type": "markdown",
   "id": "a9d08424",
   "metadata": {},
   "source": [
    "# Before standardization"
   ]
  },
  {
   "cell_type": "code",
   "execution_count": 15,
   "id": "aac6e139",
   "metadata": {
    "ExecuteTime": {
     "end_time": "2022-03-18T16:50:04.925186Z",
     "start_time": "2022-03-18T16:50:04.709103Z"
    }
   },
   "outputs": [
    {
     "data": {
      "text/plain": [
       "<AxesSubplot:ylabel='Density'>"
      ]
     },
     "execution_count": 15,
     "metadata": {},
     "output_type": "execute_result"
    },
    {
     "data": {
      "image/png": "[encoded data removed]",
      "text/plain": [
       "<Figure size 432x288 with 1 Axes>"
      ]
     },
     "metadata": {
      "needs_background": "light"
     },
     "output_type": "display_data"
    }
   ],
   "source": [
    "sns.kdeplot(a)"
   ]
  },
  {
   "cell_type": "markdown",
   "id": "ad89a37a",
   "metadata": {},
   "source": [
    "# After standardization"
   ]
  },
  {
   "cell_type": "code",
   "execution_count": 19,
   "id": "767c9f0e",
   "metadata": {
    "ExecuteTime": {
     "end_time": "2022-03-18T16:54:37.661767Z",
     "start_time": "2022-03-18T16:54:37.658390Z"
    }
   },
   "outputs": [],
   "source": [
    "z = (a-a.mean())/a.std()\n",
    "# z"
   ]
  },
  {
   "cell_type": "code",
   "execution_count": 21,
   "id": "9efcc5df",
   "metadata": {
    "ExecuteTime": {
     "end_time": "2022-03-18T16:57:28.534704Z",
     "start_time": "2022-03-18T16:57:28.529907Z"
    }
   },
   "outputs": [
    {
     "data": {
      "text/plain": [
       "2.575717417130363e-16"
      ]
     },
     "execution_count": 21,
     "metadata": {},
     "output_type": "execute_result"
    }
   ],
   "source": [
    "z.mean()"
   ]
  },
  {
   "cell_type": "code",
   "execution_count": 22,
   "id": "09641e93",
   "metadata": {
    "ExecuteTime": {
     "end_time": "2022-03-18T16:57:37.575178Z",
     "start_time": "2022-03-18T16:57:37.570136Z"
    }
   },
   "outputs": [
    {
     "data": {
      "text/plain": [
       "1.0"
      ]
     },
     "execution_count": 22,
     "metadata": {},
     "output_type": "execute_result"
    }
   ],
   "source": [
    "z.std()"
   ]
  },
  {
   "cell_type": "code",
   "execution_count": 20,
   "id": "7d16de20",
   "metadata": {
    "ExecuteTime": {
     "end_time": "2022-03-18T16:54:44.178969Z",
     "start_time": "2022-03-18T16:54:44.021182Z"
    }
   },
   "outputs": [
    {
     "data": {
      "text/plain": [
       "<AxesSubplot:ylabel='Density'>"
      ]
     },
     "execution_count": 20,
     "metadata": {},
     "output_type": "execute_result"
    },
    {
     "data": {
      "image/png": "[encoded data removed]",
      "text/plain": [
       "<Figure size 432x288 with 1 Axes>"
      ]
     },
     "metadata": {
      "needs_background": "light"
     },
     "output_type": "display_data"
    }
   ],
   "source": [
    "sns.kdeplot(z)"
   ]
  },
  {
   "cell_type": "code",
   "execution_count": null,
   "id": "f9472510",
   "metadata": {},
   "outputs": [],
   "source": []
  },
  {
   "cell_type": "code",
   "execution_count": null,
   "id": "ad774e52",
   "metadata": {},
   "outputs": [],
   "source": []
  },
  {
   "cell_type": "code",
   "execution_count": null,
   "id": "3e93c61a",
   "metadata": {},
   "outputs": [],
   "source": []
  }
 ],
 "metadata": {
  "kernelspec": {
   "display_name": "Python 3 (ipykernel)",
   "language": "python",
   "name": "python3"
  },
  "language_info": {
   "codemirror_mode": {
    "name": "ipython",
    "version": 3
   },
   "file_extension": ".py",
   "mimetype": "text/x-python",
   "name": "python",
   "nbconvert_exporter": "python",
   "pygments_lexer": "ipython3",
   "version": "3.9.7"
  },
  "toc": {
   "base_numbering": 1,
   "nav_menu": {},
   "number_sections": true,
   "sideBar": true,
   "skip_h1_title": false,
   "title_cell": "Table of Contents",
   "title_sidebar": "Contents",
   "toc_cell": false,
   "toc_position": {},
   "toc_section_display": true,
   "toc_window_display": true
  },
  "varInspector": {
   "cols": {
    "lenName": 16,
    "lenType": 16,
    "lenVar": 40
   },
   "kernels_config": {
    "python": {
     "delete_cmd_postfix": "",
     "delete_cmd_prefix": "del ",
     "library": "var_list.py",
     "varRefreshCmd": "print(var_dic_list())"
    },
    "r": {
     "delete_cmd_postfix": ") ",
     "delete_cmd_prefix": "rm(",
     "library": "var_list.r",
     "varRefreshCmd": "cat(var_dic_list()) "
    }
   },
   "types_to_exclude": [
    "module",
    "function",
    "builtin_function_or_method",
    "instance",
    "_Feature"
   ],
   "window_display": false
  }
 },
 "nbformat": 4,
 "nbformat_minor": 5
}
